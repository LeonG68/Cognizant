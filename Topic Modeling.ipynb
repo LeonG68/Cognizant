{
 "cells": [
  {
   "cell_type": "code",
   "execution_count": 6,
   "metadata": {},
   "outputs": [
    {
     "name": "stdout",
     "output_type": "stream",
     "text": [
      "     Time  Frame Number                                            Content\n",
      "0       0  Frame: 10620  trail running - Google Search X Csilly squeake...\n",
      "1       2  Frame: 10680  trail running - Google Search X Csilly squeake...\n",
      "2       4  Frame: 10740  C Best 10 Trail Running Trails in Ric X Csilly...\n",
      "3       6  Frame: 10800  A Best 10 Trail Running Trails in Ric X Csilly...\n",
      "4       8  Frame: 10860  https://www.alltrails.com/explore X Csilly squ...\n",
      "..    ...           ...                                                ...\n",
      "114   228  Frame: 17460  A Map of Trail Running Trails near X Csilly sq...\n",
      "115   230  Frame: 17520  A Map of Trail Running Trails near X Csilly sq...\n",
      "116   232  Frame: 17580  Map of Trail Running Trails near X Csilly sque...\n",
      "117   234  Frame: 17640  A Map of Trail Running Trails near X Csilly sq...\n",
      "118   236  Frame: 17700  A Map of Trail Running Trails near X Csilly sq...\n",
      "\n",
      "[119 rows x 3 columns]\n"
     ]
    }
   ],
   "source": [
    "import pandas as pd\n",
    "\n",
    "df = pd.read_csv(\n",
    "    r'C:\\Users\\Leon\\Desktop\\Cognizant\\data\\All Transcriptions\\OCR Transcription.csv')\n",
    "print(df)\n",
    "\n",
    "\n"
   ]
  },
  {
   "cell_type": "code",
   "execution_count": 2,
   "metadata": {},
   "outputs": [
    {
     "data": {
      "application/vnd.jupyter.widget-view+json": {
       "model_id": "de6ece1c498941509eadec157d6e2163",
       "version_major": 2,
       "version_minor": 0
      },
      "text/plain": [
       "Downloading:   0%|          | 0.00/1.15k [00:00<?, ?B/s]"
      ]
     },
     "metadata": {},
     "output_type": "display_data"
    },
    {
     "name": "stderr",
     "output_type": "stream",
     "text": [
      "C:\\Users\\Leon\\AppData\\Roaming\\Python\\Python39\\site-packages\\huggingface_hub\\file_download.py:123: UserWarning: `huggingface_hub` cache-system uses symlinks by default to efficiently store duplicated files but your machine does not support them in C:\\Users\\Leon\\.cache\\huggingface\\hub. Caching files will still work but in a degraded version that might require more space on your disk. This warning can be disabled by setting the `HF_HUB_DISABLE_SYMLINKS_WARNING` environment variable. For more details, see https://huggingface.co/docs/huggingface_hub/how-to-cache#limitations.\n",
      "To support symlinks on Windows, you either need to activate Developer Mode or to run Python as an administrator. In order to see activate developer mode, see this article: https://docs.microsoft.com/en-us/windows/apps/get-started/enable-your-device-for-development\n",
      "  warnings.warn(message)\n"
     ]
    },
    {
     "data": {
      "application/vnd.jupyter.widget-view+json": {
       "model_id": "121d0a7647634aa89cac917a1f6ceae7",
       "version_major": 2,
       "version_minor": 0
      },
      "text/plain": [
       "Downloading:   0%|          | 0.00/1.63G [00:00<?, ?B/s]"
      ]
     },
     "metadata": {},
     "output_type": "display_data"
    },
    {
     "data": {
      "application/vnd.jupyter.widget-view+json": {
       "model_id": "369bdcd3365d4a579aa04fb4f24be4fd",
       "version_major": 2,
       "version_minor": 0
      },
      "text/plain": [
       "Downloading:   0%|          | 0.00/26.0 [00:00<?, ?B/s]"
      ]
     },
     "metadata": {},
     "output_type": "display_data"
    },
    {
     "data": {
      "application/vnd.jupyter.widget-view+json": {
       "model_id": "452539d419bc4173b83cb221df19a528",
       "version_major": 2,
       "version_minor": 0
      },
      "text/plain": [
       "Downloading:   0%|          | 0.00/899k [00:00<?, ?B/s]"
      ]
     },
     "metadata": {},
     "output_type": "display_data"
    },
    {
     "data": {
      "application/vnd.jupyter.widget-view+json": {
       "model_id": "0ac00849439a41e2a990c24afe6db3b4",
       "version_major": 2,
       "version_minor": 0
      },
      "text/plain": [
       "Downloading:   0%|          | 0.00/456k [00:00<?, ?B/s]"
      ]
     },
     "metadata": {},
     "output_type": "display_data"
    },
    {
     "data": {
      "application/vnd.jupyter.widget-view+json": {
       "model_id": "65028b701b6045c3a27bc1d0f14bd3b5",
       "version_major": 2,
       "version_minor": 0
      },
      "text/plain": [
       "Downloading:   0%|          | 0.00/1.36M [00:00<?, ?B/s]"
      ]
     },
     "metadata": {},
     "output_type": "display_data"
    }
   ],
   "source": [
    "from transformers import pipeline\n",
    "\n",
    "classifier = pipeline(\"zero-shot-classification\",\n",
    "                      model=\"facebook/bart-large-mnli\")\n"
   ]
  },
  {
   "cell_type": "code",
   "execution_count": 3,
   "metadata": {},
   "outputs": [
    {
     "name": "stdout",
     "output_type": "stream",
     "text": [
      "{'sequence': 'We need to solve the satellite issue for our droplet generator', 'labels': ['problem statement', 'question', 'answer'], 'scores': [0.7034183144569397, 0.2815319001674652, 0.015049722045660019]}\n",
      "{'sequence': 'John is running late', 'labels': ['problem statement', 'answer', 'question'], 'scores': [0.525668203830719, 0.26681646704673767, 0.20751528441905975]}\n",
      "{'sequence': 'How is everyone feeling today', 'labels': ['question', 'problem statement', 'answer'], 'scores': [0.9139220714569092, 0.050906162708997726, 0.0351717509329319]}\n",
      "{'sequence': 'We have detected a leak on MH-643', 'labels': ['problem statement', 'question', 'answer'], 'scores': [0.7795220017433167, 0.1233866810798645, 0.09709131717681885]}\n",
      "{'sequence': 'The humidity level is an indication of a continous water leak, not outgassing', 'labels': ['problem statement', 'answer', 'question'], 'scores': [0.5204616189002991, 0.24202001094818115, 0.23751844465732574]}\n",
      "{'sequence': 'We have to swap the DGLM on MH-643', 'labels': ['problem statement', 'question', 'answer'], 'scores': [0.375942587852478, 0.34974852204322815, 0.27430886030197144]}\n",
      "{'sequence': 'Try cannabalizing the board from MH-643', 'labels': ['problem statement', 'question', 'answer'], 'scores': [0.4298820495605469, 0.390237957239151, 0.17988000810146332]}\n"
     ]
    }
   ],
   "source": [
    "sentences = [\n",
    "    'We need to solve the satellite issue for our droplet generator',\n",
    "    'John is running late',\n",
    "    'How is everyone feeling today',\n",
    "    'We have detected a leak on MH-643',\n",
    "    'The humidity level is an indication of a continous water leak, not outgassing',\n",
    "    'We have to swap the DGLM on MH-643',\n",
    "    'Try cannabalizing the board from MH-643'\n",
    "]\n",
    "\n",
    "for x in sentences:\n",
    "  res = classifier(\n",
    "      x,\n",
    "      candidate_labels=['problem statement', 'answer', 'question']\n",
    "  )\n",
    "\n",
    "  print(res)\n"
   ]
  },
  {
   "cell_type": "code",
   "execution_count": null,
   "metadata": {},
   "outputs": [],
   "source": []
  }
 ],
 "metadata": {
  "kernelspec": {
   "display_name": "Python 3.9.0 64-bit",
   "language": "python",
   "name": "python3"
  },
  "language_info": {
   "codemirror_mode": {
    "name": "ipython",
    "version": 3
   },
   "file_extension": ".py",
   "mimetype": "text/x-python",
   "name": "python",
   "nbconvert_exporter": "python",
   "pygments_lexer": "ipython3",
   "version": "3.9.0"
  },
  "orig_nbformat": 4,
  "vscode": {
   "interpreter": {
    "hash": "dc5eb0c90e2f6c976a983a2fa1f7afdeb9926592d32c540a8be7fcdb78a03d65"
   }
  }
 },
 "nbformat": 4,
 "nbformat_minor": 2
}
