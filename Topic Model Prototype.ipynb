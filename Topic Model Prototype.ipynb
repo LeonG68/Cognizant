{
 "cells": [
  {
   "cell_type": "markdown",
   "metadata": {},
   "source": [
    "Download Data\n"
   ]
  },
  {
   "cell_type": "code",
   "execution_count": 1,
   "metadata": {},
   "outputs": [],
   "source": [
    "from sklearn.datasets import fetch_20newsgroups\n",
    "data = fetch_20newsgroups(subset='all')['data']\n"
   ]
  },
  {
   "cell_type": "markdown",
   "metadata": {},
   "source": [
    "Embeddings"
   ]
  },
  {
   "cell_type": "code",
   "execution_count": 5,
   "metadata": {},
   "outputs": [
    {
     "data": {
      "application/vnd.jupyter.widget-view+json": {
       "model_id": "6ec261ddccc24612b770d4301064d0f5",
       "version_major": 2,
       "version_minor": 0
      },
      "text/plain": [
       "Batches:   0%|          | 0/589 [00:00<?, ?it/s]"
      ]
     },
     "metadata": {},
     "output_type": "display_data"
    }
   ],
   "source": [
    "\n",
    "from sentence_transformers import SentenceTransformer\n",
    "model = SentenceTransformer('distilbert-base-nli-mean-tokens')\n",
    "embeddings = model.encode(data, show_progress_bar=True)\n"
   ]
  },
  {
   "cell_type": "code",
   "execution_count": 7,
   "metadata": {},
   "outputs": [
    {
     "data": {
      "text/plain": [
       "numpy.ndarray"
      ]
     },
     "execution_count": 7,
     "metadata": {},
     "output_type": "execute_result"
    }
   ],
   "source": [
    "type(embeddings)"
   ]
  },
  {
   "cell_type": "markdown",
   "metadata": {},
   "source": [
    "Clustering with UMAP, Play around with neighbors components"
   ]
  },
  {
   "cell_type": "code",
   "execution_count": 26,
   "metadata": {},
   "outputs": [
    {
     "ename": "UFuncTypeError",
     "evalue": "ufunc 'correct_alternative_cosine' did not contain a loop with signature matching types <class 'numpy.dtype[float32]'> -> None",
     "output_type": "error",
     "traceback": [
      "\u001b[1;31m---------------------------------------------------------------------------\u001b[0m",
      "\u001b[1;31mUFuncTypeError\u001b[0m                            Traceback (most recent call last)",
      "Cell \u001b[1;32mIn [26], line 2\u001b[0m\n\u001b[0;32m      1\u001b[0m \u001b[39mimport\u001b[39;00m \u001b[39mumap\u001b[39;00m\n\u001b[1;32m----> 2\u001b[0m umap_embeddings \u001b[39m=\u001b[39m umap\u001b[39m.\u001b[39;49mUMAP(n_neighbors\u001b[39m=\u001b[39;49m\u001b[39m15\u001b[39;49m,\n\u001b[0;32m      3\u001b[0m                             n_components\u001b[39m=\u001b[39;49m\u001b[39m5\u001b[39;49m,\n\u001b[0;32m      4\u001b[0m                             metric\u001b[39m=\u001b[39;49m\u001b[39m'\u001b[39;49m\u001b[39mcosine\u001b[39;49m\u001b[39m'\u001b[39;49m)\u001b[39m.\u001b[39;49mfit_transform(embeddings)\n",
      "File \u001b[1;32m~\\AppData\\Roaming\\Python\\Python39\\site-packages\\umap\\umap_.py:2772\u001b[0m, in \u001b[0;36mUMAP.fit_transform\u001b[1;34m(self, X, y)\u001b[0m\n\u001b[0;32m   2742\u001b[0m \u001b[39mdef\u001b[39;00m \u001b[39mfit_transform\u001b[39m(\u001b[39mself\u001b[39m, X, y\u001b[39m=\u001b[39m\u001b[39mNone\u001b[39;00m):\n\u001b[0;32m   2743\u001b[0m     \u001b[39m\"\"\"Fit X into an embedded space and return that transformed\u001b[39;00m\n\u001b[0;32m   2744\u001b[0m \u001b[39m    output.\u001b[39;00m\n\u001b[0;32m   2745\u001b[0m \n\u001b[1;32m   (...)\u001b[0m\n\u001b[0;32m   2770\u001b[0m \u001b[39m        Local radii of data points in the embedding (log-transformed).\u001b[39;00m\n\u001b[0;32m   2771\u001b[0m \u001b[39m    \"\"\"\u001b[39;00m\n\u001b[1;32m-> 2772\u001b[0m     \u001b[39mself\u001b[39;49m\u001b[39m.\u001b[39;49mfit(X, y)\n\u001b[0;32m   2773\u001b[0m     \u001b[39mif\u001b[39;00m \u001b[39mself\u001b[39m\u001b[39m.\u001b[39mtransform_mode \u001b[39m==\u001b[39m \u001b[39m\"\u001b[39m\u001b[39membedding\u001b[39m\u001b[39m\"\u001b[39m:\n\u001b[0;32m   2774\u001b[0m         \u001b[39mif\u001b[39;00m \u001b[39mself\u001b[39m\u001b[39m.\u001b[39moutput_dens:\n",
      "File \u001b[1;32m~\\AppData\\Roaming\\Python\\Python39\\site-packages\\umap\\umap_.py:2516\u001b[0m, in \u001b[0;36mUMAP.fit\u001b[1;34m(self, X, y)\u001b[0m\n\u001b[0;32m   2510\u001b[0m     nn_metric \u001b[39m=\u001b[39m \u001b[39mself\u001b[39m\u001b[39m.\u001b[39m_input_distance_func\n\u001b[0;32m   2511\u001b[0m \u001b[39mif\u001b[39;00m \u001b[39mself\u001b[39m\u001b[39m.\u001b[39mknn_dists \u001b[39mis\u001b[39;00m \u001b[39mNone\u001b[39;00m:\n\u001b[0;32m   2512\u001b[0m     (\n\u001b[0;32m   2513\u001b[0m         \u001b[39mself\u001b[39m\u001b[39m.\u001b[39m_knn_indices,\n\u001b[0;32m   2514\u001b[0m         \u001b[39mself\u001b[39m\u001b[39m.\u001b[39m_knn_dists,\n\u001b[0;32m   2515\u001b[0m         \u001b[39mself\u001b[39m\u001b[39m.\u001b[39m_knn_search_index,\n\u001b[1;32m-> 2516\u001b[0m     ) \u001b[39m=\u001b[39m nearest_neighbors(\n\u001b[0;32m   2517\u001b[0m         X[index],\n\u001b[0;32m   2518\u001b[0m         \u001b[39mself\u001b[39;49m\u001b[39m.\u001b[39;49m_n_neighbors,\n\u001b[0;32m   2519\u001b[0m         nn_metric,\n\u001b[0;32m   2520\u001b[0m         \u001b[39mself\u001b[39;49m\u001b[39m.\u001b[39;49m_metric_kwds,\n\u001b[0;32m   2521\u001b[0m         \u001b[39mself\u001b[39;49m\u001b[39m.\u001b[39;49mangular_rp_forest,\n\u001b[0;32m   2522\u001b[0m         random_state,\n\u001b[0;32m   2523\u001b[0m         \u001b[39mself\u001b[39;49m\u001b[39m.\u001b[39;49mlow_memory,\n\u001b[0;32m   2524\u001b[0m         use_pynndescent\u001b[39m=\u001b[39;49m\u001b[39mTrue\u001b[39;49;00m,\n\u001b[0;32m   2525\u001b[0m         n_jobs\u001b[39m=\u001b[39;49m\u001b[39mself\u001b[39;49m\u001b[39m.\u001b[39;49mn_jobs,\n\u001b[0;32m   2526\u001b[0m         verbose\u001b[39m=\u001b[39;49m\u001b[39mself\u001b[39;49m\u001b[39m.\u001b[39;49mverbose,\n\u001b[0;32m   2527\u001b[0m     )\n\u001b[0;32m   2528\u001b[0m \u001b[39melse\u001b[39;00m:\n\u001b[0;32m   2529\u001b[0m     \u001b[39mself\u001b[39m\u001b[39m.\u001b[39m_knn_indices \u001b[39m=\u001b[39m \u001b[39mself\u001b[39m\u001b[39m.\u001b[39mknn_indices\n",
      "File \u001b[1;32m~\\AppData\\Roaming\\Python\\Python39\\site-packages\\umap\\umap_.py:342\u001b[0m, in \u001b[0;36mnearest_neighbors\u001b[1;34m(X, n_neighbors, metric, metric_kwds, angular, random_state, low_memory, use_pynndescent, n_jobs, verbose)\u001b[0m\n\u001b[0;32m    326\u001b[0m     n_iters \u001b[39m=\u001b[39m \u001b[39mmax\u001b[39m(\u001b[39m5\u001b[39m, \u001b[39mint\u001b[39m(\u001b[39mround\u001b[39m(np\u001b[39m.\u001b[39mlog2(X\u001b[39m.\u001b[39mshape[\u001b[39m0\u001b[39m]))))\n\u001b[0;32m    328\u001b[0m     knn_search_index \u001b[39m=\u001b[39m NNDescent(\n\u001b[0;32m    329\u001b[0m         X,\n\u001b[0;32m    330\u001b[0m         n_neighbors\u001b[39m=\u001b[39mn_neighbors,\n\u001b[1;32m   (...)\u001b[0m\n\u001b[0;32m    340\u001b[0m         compressed\u001b[39m=\u001b[39m\u001b[39mFalse\u001b[39;00m,\n\u001b[0;32m    341\u001b[0m     )\n\u001b[1;32m--> 342\u001b[0m     knn_indices, knn_dists \u001b[39m=\u001b[39m knn_search_index\u001b[39m.\u001b[39;49mneighbor_graph\n\u001b[0;32m    344\u001b[0m \u001b[39mif\u001b[39;00m verbose:\n\u001b[0;32m    345\u001b[0m     \u001b[39mprint\u001b[39m(ts(), \u001b[39m\"\u001b[39m\u001b[39mFinished Nearest Neighbor Search\u001b[39m\u001b[39m\"\u001b[39m)\n",
      "File \u001b[1;32m~\\AppData\\Roaming\\Python\\Python39\\site-packages\\pynndescent\\pynndescent_.py:1614\u001b[0m, in \u001b[0;36mNNDescent.neighbor_graph\u001b[1;34m(self)\u001b[0m\n\u001b[0;32m   1610\u001b[0m     \u001b[39mreturn\u001b[39;00m \u001b[39mNone\u001b[39;00m\n\u001b[0;32m   1611\u001b[0m \u001b[39mif\u001b[39;00m \u001b[39mself\u001b[39m\u001b[39m.\u001b[39m_distance_correction \u001b[39mis\u001b[39;00m \u001b[39mnot\u001b[39;00m \u001b[39mNone\u001b[39;00m:\n\u001b[0;32m   1612\u001b[0m     result \u001b[39m=\u001b[39m (\n\u001b[0;32m   1613\u001b[0m         \u001b[39mself\u001b[39m\u001b[39m.\u001b[39m_neighbor_graph[\u001b[39m0\u001b[39m]\u001b[39m.\u001b[39mcopy(),\n\u001b[1;32m-> 1614\u001b[0m         \u001b[39mself\u001b[39;49m\u001b[39m.\u001b[39;49m_distance_correction(\u001b[39mself\u001b[39;49m\u001b[39m.\u001b[39;49m_neighbor_graph[\u001b[39m1\u001b[39;49m]),\n\u001b[0;32m   1615\u001b[0m     )\n\u001b[0;32m   1616\u001b[0m \u001b[39melse\u001b[39;00m:\n\u001b[0;32m   1617\u001b[0m     result \u001b[39m=\u001b[39m (\u001b[39mself\u001b[39m\u001b[39m.\u001b[39m_neighbor_graph[\u001b[39m0\u001b[39m]\u001b[39m.\u001b[39mcopy(), \u001b[39mself\u001b[39m\u001b[39m.\u001b[39m_neighbor_graph[\u001b[39m1\u001b[39m]\u001b[39m.\u001b[39mcopy())\n",
      "\u001b[1;31mUFuncTypeError\u001b[0m: ufunc 'correct_alternative_cosine' did not contain a loop with signature matching types <class 'numpy.dtype[float32]'> -> None"
     ]
    }
   ],
   "source": [
    "\n",
    "import umap\n",
    "umap_embeddings = umap.UMAP(n_neighbors=15,\n",
    "                            n_components=5,\n",
    "                            metric='cosine').fit_transform(embeddings)\n"
   ]
  },
  {
   "cell_type": "code",
   "execution_count": null,
   "metadata": {},
   "outputs": [],
   "source": [
    "\n",
    "import hdbscan\n",
    "cluster = hdbscan.HDBSCAN(min_cluster_size=15,\n",
    "                          metric='euclidean',\n",
    "                          cluster_selection_method='eom').fit(umap_embeddings)\n"
   ]
  },
  {
   "cell_type": "code",
   "execution_count": null,
   "metadata": {},
   "outputs": [],
   "source": [
    "\n",
    "import matplotlib.pyplot as plt\n",
    "\n",
    "# Prepare data\n",
    "umap_data = umap.UMAP(n_neighbors=15, n_components=2,\n",
    "                      min_dist=0.0, metric='cosine').fit_transform(embeddings)\n",
    "result = pd.DataFrame(umap_data, columns=['x', 'y'])\n",
    "result['labels'] = cluster.labels_\n",
    "\n",
    "# Visualize clusters\n",
    "fig, ax = plt.subplots(figsize=(20, 10))\n",
    "outliers = result.loc[result.labels == -1, :]\n",
    "clustered = result.loc[result.labels != -1, :]\n",
    "plt.scatter(outliers.x, outliers.y, color='#BDBDBD', s=0.05)\n",
    "plt.scatter(clustered.x, clustered.y, c=clustered.labels, s=0.05, cmap='hsv_r')\n",
    "plt.colorbar()\n"
   ]
  },
  {
   "cell_type": "markdown",
   "metadata": {},
   "source": [
    "Topic Creation with TF-IDF"
   ]
  },
  {
   "cell_type": "code",
   "execution_count": null,
   "metadata": {},
   "outputs": [],
   "source": []
  }
 ],
 "metadata": {
  "kernelspec": {
   "display_name": "Python 3.9.0 64-bit",
   "language": "python",
   "name": "python3"
  },
  "language_info": {
   "codemirror_mode": {
    "name": "ipython",
    "version": 3
   },
   "file_extension": ".py",
   "mimetype": "text/x-python",
   "name": "python",
   "nbconvert_exporter": "python",
   "pygments_lexer": "ipython3",
   "version": "3.9.0"
  },
  "orig_nbformat": 4,
  "vscode": {
   "interpreter": {
    "hash": "dc5eb0c90e2f6c976a983a2fa1f7afdeb9926592d32c540a8be7fcdb78a03d65"
   }
  }
 },
 "nbformat": 4,
 "nbformat_minor": 2
}
